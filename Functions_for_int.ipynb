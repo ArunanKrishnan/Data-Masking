{
  "nbformat": 4,
  "nbformat_minor": 0,
  "metadata": {
    "colab": {
      "provenance": [],
      "authorship_tag": "ABX9TyOOZdAKzDAvjd1Y98/oqfj6",
      "include_colab_link": true
    },
    "kernelspec": {
      "name": "python3",
      "display_name": "Python 3"
    },
    "language_info": {
      "name": "python"
    }
  },
  "cells": [
    {
      "cell_type": "markdown",
      "metadata": {
        "id": "view-in-github",
        "colab_type": "text"
      },
      "source": [
        "<a href=\"https://colab.research.google.com/github/ArunanKrishnan/Data-Obfuscation/blob/functions-for-int/Functions_for_int.ipynb\" target=\"_parent\"><img src=\"https://colab.research.google.com/assets/colab-badge.svg\" alt=\"Open In Colab\"/></a>"
      ]
    },
    {
      "cell_type": "code",
      "execution_count": null,
      "metadata": {
        "id": "1y8Tj6Cijuh1"
      },
      "outputs": [],
      "source": [
        "import pandas as pd\n",
        "path = \"masking-input.xlsx\"\n",
        "df = pd.read_excel(path)\n",
        "integer_value = df['Employee ID']\n",
        "fixed_value = 1111\n",
        "result = integer_value + fixed_value\n",
        "print(result)"
      ]
    },
    {
      "cell_type": "code",
      "source": [
        "import pandas as pd\n",
        "def divide_and_swap(numbers):   \n",
        "    length = len(numbers)  \n",
        "    if length % 2 == 0:     \n",
        "        half = length // 2\n",
        "        first_half = numbers[:half]\n",
        "        second_half = numbers[half:]   \n",
        "        numbers = second_half + first_half \n",
        "        return numbers\n",
        "    else:\n",
        "        return \"Error: List length must be even\"\n",
        "column_name = 'Employee ID' \n",
        "#column_index = 2         \n",
        "series = pd.read_excel(r'C:\\Users\\akrish451\\Desktop\\New folder.xlsx')  \n",
        "#series = pd.read_excel('masking-input.xlsx', usecols=[column_index]) \n",
        "numbers = series['Employee ID'].tolist()\n",
        "swapped_numbers = divide_and_swap(numbers)\n",
        "swapped_df = pd.DataFrame({'Swapped Numbers': swapped_numbers})\n",
        "swapped_df.to_excel('output_file_emp.xlsx', index=False)"
      ],
      "metadata": {
        "id": "kbH87P3Tm5f7"
      },
      "execution_count": null,
      "outputs": []
    }
  ]
}